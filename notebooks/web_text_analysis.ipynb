{
 "cells": [
  {
   "cell_type": "code",
   "execution_count": 2,
   "metadata": {},
   "outputs": [],
   "source": [
    "# imports \n",
    "import os\n",
    "import sys\n",
    "sys.path.append(\"../\")\n",
    "\n",
    "from datahandler import DataHandler"
   ]
  },
  {
   "cell_type": "code",
   "execution_count": 3,
   "metadata": {},
   "outputs": [
    {
     "name": "stdout",
     "output_type": "stream",
     "text": [
      "Total Word Count: 100706\n",
      "Number of Docs in the Corpus: 251\n",
      "[{'inst': '945314', 'n_docs': 1, 'wc': 390}, {'inst': '945497', 'n_docs': 1, 'wc': 301}, {'inst': '945121', 'n_docs': 1, 'wc': 313}, {'inst': '946173', 'n_docs': 1, 'wc': 393}, {'inst': '945513', 'n_docs': 1, 'wc': 511}, {'inst': '945283', 'n_docs': 1, 'wc': 494}, {'inst': '945166', 'n_docs': 1, 'wc': 122}, {'inst': '945501', 'n_docs': 1, 'wc': 125}, {'inst': '945194', 'n_docs': 1, 'wc': 347}, {'inst': '945592', 'n_docs': 1, 'wc': 482}, {'inst': '945977', 'n_docs': 1, 'wc': 403}, {'inst': '945201', 'n_docs': 1, 'wc': 149}, {'inst': '945628', 'n_docs': 1, 'wc': 206}, {'inst': '945053', 'n_docs': 1, 'wc': 419}, {'inst': '956074', 'n_docs': 1, 'wc': 490}, {'inst': '945960', 'n_docs': 1, 'wc': 447}, {'inst': '946064', 'n_docs': 1, 'wc': 327}, {'inst': '945032', 'n_docs': 1, 'wc': 260}, {'inst': '945540', 'n_docs': 1, 'wc': 891}, {'inst': '945510', 'n_docs': 1, 'wc': 327}, {'inst': '946192', 'n_docs': 1, 'wc': 273}, {'inst': '946170', 'n_docs': 1, 'wc': 492}, {'inst': '945156', 'n_docs': 1, 'wc': 308}, {'inst': '945805', 'n_docs': 1, 'wc': 228}, {'inst': '945895', 'n_docs': 1, 'wc': 668}, {'inst': '946017', 'n_docs': 1, 'wc': 493}, {'inst': '945691', 'n_docs': 1, 'wc': 472}, {'inst': '945728', 'n_docs': 1, 'wc': 222}, {'inst': '945903', 'n_docs': 1, 'wc': 200}, {'inst': '945144', 'n_docs': 1, 'wc': 451}, {'inst': '945395', 'n_docs': 1, 'wc': 321}, {'inst': '945892', 'n_docs': 1, 'wc': 506}, {'inst': '945351', 'n_docs': 1, 'wc': 495}, {'inst': '945261', 'n_docs': 1, 'wc': 429}, {'inst': '945657', 'n_docs': 1, 'wc': 322}, {'inst': '945052', 'n_docs': 1, 'wc': 571}, {'inst': '946008', 'n_docs': 1, 'wc': 213}, {'inst': '945487', 'n_docs': 1, 'wc': 309}, {'inst': '945906', 'n_docs': 1, 'wc': 519}, {'inst': '945786', 'n_docs': 1, 'wc': 476}, {'inst': '946070', 'n_docs': 1, 'wc': 363}, {'inst': '945710', 'n_docs': 1, 'wc': 495}, {'inst': '945894', 'n_docs': 1, 'wc': 189}, {'inst': '946013', 'n_docs': 1, 'wc': 82}, {'inst': '946115', 'n_docs': 1, 'wc': 385}, {'inst': '945051', 'n_docs': 1, 'wc': 205}, {'inst': '945126', 'n_docs': 1, 'wc': 550}, {'inst': '945239', 'n_docs': 1, 'wc': 353}, {'inst': '945726', 'n_docs': 1, 'wc': 97}, {'inst': '945151', 'n_docs': 1, 'wc': 676}, {'inst': '945900', 'n_docs': 1, 'wc': 422}, {'inst': '945420', 'n_docs': 1, 'wc': 520}, {'inst': '946116', 'n_docs': 1, 'wc': 415}, {'inst': '945934', 'n_docs': 1, 'wc': 126}, {'inst': '945739', 'n_docs': 1, 'wc': 335}, {'inst': '945747', 'n_docs': 1, 'wc': 273}, {'inst': '945662', 'n_docs': 1, 'wc': 500}, {'inst': '945905', 'n_docs': 1, 'wc': 324}, {'inst': '945145', 'n_docs': 1, 'wc': 890}, {'inst': '945556', 'n_docs': 1, 'wc': 429}, {'inst': '946024', 'n_docs': 1, 'wc': 467}, {'inst': '945416', 'n_docs': 1, 'wc': 1156}, {'inst': '945043', 'n_docs': 1, 'wc': 258}, {'inst': '946133', 'n_docs': 1, 'wc': 791}, {'inst': '945669', 'n_docs': 1, 'wc': 433}, {'inst': '945059', 'n_docs': 1, 'wc': 319}, {'inst': '946197', 'n_docs': 1, 'wc': 386}, {'inst': '945603', 'n_docs': 1, 'wc': 206}, {'inst': '945536', 'n_docs': 1, 'wc': 307}, {'inst': '945976', 'n_docs': 1, 'wc': 185}, {'inst': '945602', 'n_docs': 1, 'wc': 317}, {'inst': '945146', 'n_docs': 1, 'wc': 339}, {'inst': '956098', 'n_docs': 1, 'wc': 386}, {'inst': '946193', 'n_docs': 1, 'wc': 378}, {'inst': '945241', 'n_docs': 1, 'wc': 499}, {'inst': '956064', 'n_docs': 1, 'wc': 274}, {'inst': '945184', 'n_docs': 1, 'wc': 415}, {'inst': '946063', 'n_docs': 1, 'wc': 374}, {'inst': '945224', 'n_docs': 1, 'wc': 312}, {'inst': '945681', 'n_docs': 1, 'wc': 140}, {'inst': '945678', 'n_docs': 1, 'wc': 527}, {'inst': '945160', 'n_docs': 1, 'wc': 324}, {'inst': '945697', 'n_docs': 1, 'wc': 579}, {'inst': '946001', 'n_docs': 1, 'wc': 241}, {'inst': '945526', 'n_docs': 1, 'wc': 516}, {'inst': '956043', 'n_docs': 1, 'wc': 308}, {'inst': '945756', 'n_docs': 1, 'wc': 602}, {'inst': '945039', 'n_docs': 1, 'wc': 467}, {'inst': '945642', 'n_docs': 1, 'wc': 213}, {'inst': '945167', 'n_docs': 1, 'wc': 247}, {'inst': '945665', 'n_docs': 1, 'wc': 277}, {'inst': '946198', 'n_docs': 1, 'wc': 322}, {'inst': '945809', 'n_docs': 1, 'wc': 520}, {'inst': '945629', 'n_docs': 1, 'wc': 287}, {'inst': '945406', 'n_docs': 1, 'wc': 1414}, {'inst': '945911', 'n_docs': 1, 'wc': 722}, {'inst': '945449', 'n_docs': 1, 'wc': 718}, {'inst': '945486', 'n_docs': 1, 'wc': 171}, {'inst': '945170', 'n_docs': 1, 'wc': 176}, {'inst': '945034', 'n_docs': 1, 'wc': 411}, {'inst': '945759', 'n_docs': 1, 'wc': 285}, {'inst': '945316', 'n_docs': 1, 'wc': 493}, {'inst': '945930', 'n_docs': 1, 'wc': 320}, {'inst': '946027', 'n_docs': 1, 'wc': 412}, {'inst': '945637', 'n_docs': 1, 'wc': 303}, {'inst': '945943', 'n_docs': 1, 'wc': 200}, {'inst': '956050', 'n_docs': 1, 'wc': 450}, {'inst': '945588', 'n_docs': 1, 'wc': 364}, {'inst': '945234', 'n_docs': 1, 'wc': 450}, {'inst': '945199', 'n_docs': 1, 'wc': 752}, {'inst': '945520', 'n_docs': 1, 'wc': 86}, {'inst': '956023', 'n_docs': 1, 'wc': 409}, {'inst': '945560', 'n_docs': 1, 'wc': 346}, {'inst': '945803', 'n_docs': 1, 'wc': 345}, {'inst': '945387', 'n_docs': 1, 'wc': 92}, {'inst': '946160', 'n_docs': 1, 'wc': 305}, {'inst': '945965', 'n_docs': 1, 'wc': 924}, {'inst': '945853', 'n_docs': 1, 'wc': 319}, {'inst': '945798', 'n_docs': 1, 'wc': 698}, {'inst': '945651', 'n_docs': 1, 'wc': 467}, {'inst': '945318', 'n_docs': 1, 'wc': 494}, {'inst': '945061', 'n_docs': 1, 'wc': 434}, {'inst': '945396', 'n_docs': 1, 'wc': 415}, {'inst': '945841', 'n_docs': 1, 'wc': 444}, {'inst': '945725', 'n_docs': 1, 'wc': 434}, {'inst': '945321', 'n_docs': 1, 'wc': 515}, {'inst': '945403', 'n_docs': 1, 'wc': 520}, {'inst': '945313', 'n_docs': 1, 'wc': 452}, {'inst': '945238', 'n_docs': 1, 'wc': 953}, {'inst': '945169', 'n_docs': 1, 'wc': 433}, {'inst': '945187', 'n_docs': 1, 'wc': 813}, {'inst': '945696', 'n_docs': 1, 'wc': 181}, {'inst': '945648', 'n_docs': 1, 'wc': 396}, {'inst': '945345', 'n_docs': 1, 'wc': 191}, {'inst': '945259', 'n_docs': 1, 'wc': 408}, {'inst': '945843', 'n_docs': 1, 'wc': 389}, {'inst': '945541', 'n_docs': 1, 'wc': 483}, {'inst': '945935', 'n_docs': 1, 'wc': 291}, {'inst': '945111', 'n_docs': 1, 'wc': 364}, {'inst': '956022', 'n_docs': 1, 'wc': 367}, {'inst': '945002', 'n_docs': 1, 'wc': 532}, {'inst': '945709', 'n_docs': 1, 'wc': 253}, {'inst': '946118', 'n_docs': 1, 'wc': 146}, {'inst': '945522', 'n_docs': 1, 'wc': 185}, {'inst': '945103', 'n_docs': 1, 'wc': 326}, {'inst': '945028', 'n_docs': 1, 'wc': 348}, {'inst': '945498', 'n_docs': 1, 'wc': 435}, {'inst': '945793', 'n_docs': 1, 'wc': 378}, {'inst': '946019', 'n_docs': 1, 'wc': 358}, {'inst': '946037', 'n_docs': 1, 'wc': 567}, {'inst': '945106', 'n_docs': 1, 'wc': 286}, {'inst': '945343', 'n_docs': 1, 'wc': 657}, {'inst': '945294', 'n_docs': 1, 'wc': 446}, {'inst': '945113', 'n_docs': 1, 'wc': 889}, {'inst': '945668', 'n_docs': 1, 'wc': 384}, {'inst': '945554', 'n_docs': 1, 'wc': 501}, {'inst': '945750', 'n_docs': 1, 'wc': 534}, {'inst': '946026', 'n_docs': 1, 'wc': 493}, {'inst': '945518', 'n_docs': 1, 'wc': 237}, {'inst': '945599', 'n_docs': 1, 'wc': 200}, {'inst': '945404', 'n_docs': 1, 'wc': 327}, {'inst': '945397', 'n_docs': 1, 'wc': 319}, {'inst': '956053', 'n_docs': 1, 'wc': 779}, {'inst': '956013', 'n_docs': 1, 'wc': 851}, {'inst': '945347', 'n_docs': 1, 'wc': 621}, {'inst': '945033', 'n_docs': 1, 'wc': 399}, {'inst': '945357', 'n_docs': 1, 'wc': 299}, {'inst': '946014', 'n_docs': 1, 'wc': 382}, {'inst': '945581', 'n_docs': 1, 'wc': 216}, {'inst': '945502', 'n_docs': 1, 'wc': 226}, {'inst': '945519', 'n_docs': 1, 'wc': 219}, {'inst': '945589', 'n_docs': 1, 'wc': 286}, {'inst': '945987', 'n_docs': 1, 'wc': 650}, {'inst': '945910', 'n_docs': 1, 'wc': 511}, {'inst': '945816', 'n_docs': 1, 'wc': 180}, {'inst': '945842', 'n_docs': 1, 'wc': 122}, {'inst': '946119', 'n_docs': 1, 'wc': 381}, {'inst': '945632', 'n_docs': 1, 'wc': 464}, {'inst': '945450', 'n_docs': 1, 'wc': 442}, {'inst': '945055', 'n_docs': 1, 'wc': 243}, {'inst': '945298', 'n_docs': 1, 'wc': 324}, {'inst': '945940', 'n_docs': 1, 'wc': 1562}, {'inst': '945114', 'n_docs': 1, 'wc': 320}, {'inst': '945289', 'n_docs': 1, 'wc': 445}, {'inst': '945817', 'n_docs': 1, 'wc': 934}, {'inst': '945575', 'n_docs': 1, 'wc': 234}, {'inst': '946032', 'n_docs': 1, 'wc': 120}, {'inst': '945890', 'n_docs': 1, 'wc': 315}, {'inst': '946011', 'n_docs': 1, 'wc': 446}, {'inst': '946085', 'n_docs': 1, 'wc': 362}, {'inst': '956019', 'n_docs': 1, 'wc': 113}, {'inst': '946113', 'n_docs': 1, 'wc': 363}, {'inst': '945740', 'n_docs': 1, 'wc': 336}, {'inst': '945988', 'n_docs': 1, 'wc': 439}, {'inst': '945840', 'n_docs': 1, 'wc': 312}, {'inst': '946164', 'n_docs': 1, 'wc': 264}, {'inst': '945741', 'n_docs': 1, 'wc': 257}, {'inst': '945524', 'n_docs': 1, 'wc': 496}, {'inst': '945818', 'n_docs': 1, 'wc': 473}, {'inst': '946172', 'n_docs': 1, 'wc': 223}, {'inst': '945997', 'n_docs': 1, 'wc': 263}, {'inst': '946196', 'n_docs': 1, 'wc': 205}, {'inst': '945878', 'n_docs': 1, 'wc': 237}, {'inst': '945505', 'n_docs': 1, 'wc': 494}, {'inst': '945804', 'n_docs': 1, 'wc': 473}, {'inst': '945744', 'n_docs': 1, 'wc': 467}, {'inst': '956028', 'n_docs': 1, 'wc': 567}, {'inst': '945754', 'n_docs': 1, 'wc': 584}, {'inst': '945859', 'n_docs': 1, 'wc': 355}, {'inst': '946018', 'n_docs': 1, 'wc': 381}, {'inst': '945317', 'n_docs': 1, 'wc': 435}, {'inst': '956049', 'n_docs': 1, 'wc': 481}, {'inst': '945208', 'n_docs': 1, 'wc': 98}, {'inst': '945154', 'n_docs': 1, 'wc': 736}, {'inst': '945671', 'n_docs': 1, 'wc': 500}, {'inst': '945441', 'n_docs': 1, 'wc': 414}, {'inst': '945901', 'n_docs': 1, 'wc': 505}, {'inst': '945743', 'n_docs': 1, 'wc': 449}, {'inst': '945191', 'n_docs': 1, 'wc': 250}, {'inst': '945096', 'n_docs': 1, 'wc': 463}, {'inst': '945745', 'n_docs': 1, 'wc': 360}, {'inst': '946022', 'n_docs': 1, 'wc': 276}, {'inst': '945701', 'n_docs': 1, 'wc': 216}, {'inst': '946189', 'n_docs': 1, 'wc': 450}, {'inst': '945312', 'n_docs': 1, 'wc': 287}, {'inst': '945543', 'n_docs': 1, 'wc': 308}, {'inst': '945030', 'n_docs': 1, 'wc': 310}, {'inst': '945168', 'n_docs': 1, 'wc': 599}, {'inst': '945931', 'n_docs': 1, 'wc': 507}, {'inst': '946020', 'n_docs': 1, 'wc': 442}, {'inst': '945909', 'n_docs': 1, 'wc': 193}, {'inst': '945302', 'n_docs': 1, 'wc': 331}, {'inst': '945933', 'n_docs': 1, 'wc': 413}, {'inst': '946169', 'n_docs': 1, 'wc': 366}, {'inst': '945149', 'n_docs': 1, 'wc': 273}, {'inst': '945243', 'n_docs': 1, 'wc': 140}, {'inst': '945442', 'n_docs': 1, 'wc': 286}, {'inst': '945956', 'n_docs': 1, 'wc': 297}, {'inst': '945037', 'n_docs': 1, 'wc': 464}, {'inst': '945508', 'n_docs': 1, 'wc': 200}, {'inst': '945857', 'n_docs': 1, 'wc': 713}, {'inst': '945693', 'n_docs': 1, 'wc': 210}, {'inst': '945152', 'n_docs': 1, 'wc': 488}, {'inst': '945454', 'n_docs': 1, 'wc': 286}, {'inst': '945465', 'n_docs': 1, 'wc': 185}, {'inst': '946065', 'n_docs': 1, 'wc': 262}, {'inst': '946086', 'n_docs': 1, 'wc': 1055}, {'inst': '945507', 'n_docs': 1, 'wc': 167}, {'inst': '945296', 'n_docs': 1, 'wc': 259}, {'inst': '945311', 'n_docs': 1, 'wc': 413}, {'inst': '945029', 'n_docs': 1, 'wc': 208}]\n"
     ]
    }
   ],
   "source": [
    "# set random seed\n",
    "# seed = np.random.randint(0, 2**32)\n",
    "seed=123\n",
    "\n",
    "# supply data directory\n",
    "data_dir = os.path.join(os.pardir, \"data\", \"web_data\",\"preproc\")\n",
    "# load corpus\n",
    "corpus = DataHandler(data_dir, seed)\n",
    "\n",
    "# print some various information from the corpus\n",
    "print(\"Total Word Count: {}\".format(corpus.total_words))\n",
    "print(\"Number of Docs in the Corpus: {}\".format(corpus.total_docs))\n",
    "\n",
    "# summarize statistics from all institutions in the corpus\n",
    "print(corpus.stats)"
   ]
  }
 ],
 "metadata": {
  "kernelspec": {
   "display_name": "Python 3",
   "language": "python",
   "name": "python3"
  },
  "language_info": {
   "codemirror_mode": {
    "name": "ipython",
    "version": 3
   },
   "file_extension": ".py",
   "mimetype": "text/x-python",
   "name": "python",
   "nbconvert_exporter": "python",
   "pygments_lexer": "ipython3",
   "version": "3.8.5"
  }
 },
 "nbformat": 4,
 "nbformat_minor": 4
}
