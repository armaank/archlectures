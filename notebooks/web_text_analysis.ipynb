{
 "cells": [
  {
   "cell_type": "code",
   "execution_count": 1,
   "metadata": {},
   "outputs": [],
   "source": [
    "# imports \n",
    "import os\n",
    "import sys\n",
    "sys.path.append(\"../\")\n",
    "\n",
    "from datahandler import DataHandler"
   ]
  },
  {
   "cell_type": "code",
   "execution_count": 6,
   "metadata": {},
   "outputs": [
    {
     "name": "stdout",
     "output_type": "stream",
     "text": [
      "Total Word Count: 2220710\n",
      "Number of Docs in the Corpus: 5405\n",
      "Average number of words per doc: 410.8621646623497\n"
     ]
    }
   ],
   "source": [
    "# set random seed\n",
    "# seed = np.random.randint(0, 2**32)\n",
    "seed=123\n",
    "\n",
    "# supply data directory\n",
    "data_dir = os.path.join(os.pardir, \"data\", \"web_data\",\"preproc\")\n",
    "# load corpus\n",
    "corpus = DataHandler(data_dir, seed)\n",
    "\n",
    "# print some various information from the corpus\n",
    "print(\"Total Word Count: {}\".format(corpus.total_words))\n",
    "print(\"Number of Docs in the Corpus: {}\".format(corpus.total_docs))\n",
    "\n",
    "# summarize statistics from all institutions in the corpus\n",
    "print(\"Average number of words per doc: {}\".format(corpus.total_words / corpus.total_docs))"
   ]
  },
  {
   "cell_type": "code",
   "execution_count": null,
   "metadata": {},
   "outputs": [],
   "source": []
  }
 ],
 "metadata": {
  "kernelspec": {
   "display_name": "Python 3",
   "language": "python",
   "name": "python3"
  },
  "language_info": {
   "codemirror_mode": {
    "name": "ipython",
    "version": 3
   },
   "file_extension": ".py",
   "mimetype": "text/x-python",
   "name": "python",
   "nbconvert_exporter": "python",
   "pygments_lexer": "ipython3",
   "version": "3.8.5"
  }
 },
 "nbformat": 4,
 "nbformat_minor": 4
}
